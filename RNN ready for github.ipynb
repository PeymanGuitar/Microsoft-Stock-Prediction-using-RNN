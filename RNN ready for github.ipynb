{
 "cells": [
  {
   "cell_type": "markdown",
   "metadata": {},
   "source": [
    "#### We are going to use a LSTM model to predict the downward and upward trend of Microsoft stocks price. Our training data is the stock price of January 2009 through the end of August 2018 and we are going to predict the stock price of September 2018 and then compare them with the real values."
   ]
  },
  {
   "cell_type": "markdown",
   "metadata": {},
   "source": [
    "#### Part 1 - Data Preprocessing"
   ]
  },
  {
   "cell_type": "markdown",
   "metadata": {},
   "source": [
    "#### Importing the libraries"
   ]
  },
  {
   "cell_type": "code",
   "execution_count": 1,
   "metadata": {},
   "outputs": [],
   "source": [
    "import numpy as np\n",
    "import matplotlib.pyplot as plt\n",
    "import pandas as pd"
   ]
  },
  {
   "cell_type": "markdown",
   "metadata": {},
   "source": [
    "#### Importing the training set"
   ]
  },
  {
   "cell_type": "code",
   "execution_count": 2,
   "metadata": {},
   "outputs": [],
   "source": [
    "dataset_train = pd.read_csv('Data/Microsoft_Stock_Price_Train.csv')\n",
    "training_set = dataset_train.iloc[:, 1:2].values"
   ]
  },
  {
   "cell_type": "markdown",
   "metadata": {},
   "source": [
    "#### Feature Scaling"
   ]
  },
  {
   "cell_type": "markdown",
   "metadata": {},
   "source": [
    "#### Feature Scaling is very important as want the values to be between 0 and 1."
   ]
  },
  {
   "cell_type": "code",
   "execution_count": 3,
   "metadata": {},
   "outputs": [],
   "source": [
    "from sklearn.preprocessing import MinMaxScaler\n",
    "sc = MinMaxScaler(feature_range = (0, 1))\n",
    "training_set_scaled = sc.fit_transform(training_set)"
   ]
  },
  {
   "cell_type": "markdown",
   "metadata": {},
   "source": [
    "#### Creating a data structure with 60 timesteps and 1 output. You need to examine several timestamps. We examined 1, 20, 40 and the 60 and 60 turned out to be the best fit. We have X_train which is for the 60 days before a financial day and y_train is for the exact financial day."
   ]
  },
  {
   "cell_type": "code",
   "execution_count": 4,
   "metadata": {},
   "outputs": [],
   "source": [
    "X_train = []\n",
    "y_train = []\n",
    "for i in range(60, len(training_set_scaled)):\n",
    "    X_train.append(training_set_scaled[i-60:i, 0])\n",
    "    y_train.append(training_set_scaled[i, 0])\n",
    "X_train, y_train = np.array(X_train), np.array(y_train)"
   ]
  },
  {
   "cell_type": "markdown",
   "metadata": {},
   "source": [
    "#### Reshaping"
   ]
  },
  {
   "cell_type": "code",
   "execution_count": 5,
   "metadata": {},
   "outputs": [],
   "source": [
    "X_train = np.reshape(X_train, (X_train.shape[0], X_train.shape[1], 1))"
   ]
  },
  {
   "cell_type": "markdown",
   "metadata": {},
   "source": [
    "#### Part 2 - Building the RNN"
   ]
  },
  {
   "cell_type": "markdown",
   "metadata": {},
   "source": [
    "#### Importing the Keras libraries and packages"
   ]
  },
  {
   "cell_type": "code",
   "execution_count": 6,
   "metadata": {},
   "outputs": [
    {
     "name": "stderr",
     "output_type": "stream",
     "text": [
      "Using TensorFlow backend.\n"
     ]
    }
   ],
   "source": [
    "from keras.models import Sequential\n",
    "from keras.layers import Dense\n",
    "from keras.layers import LSTM\n",
    "from keras.layers import Dropout"
   ]
  },
  {
   "cell_type": "markdown",
   "metadata": {},
   "source": [
    "#### Initialising the RNN"
   ]
  },
  {
   "cell_type": "code",
   "execution_count": 7,
   "metadata": {},
   "outputs": [],
   "source": [
    "regressor = Sequential()"
   ]
  },
  {
   "cell_type": "markdown",
   "metadata": {},
   "source": [
    "#### We need to add dropout regularization to avoid overfitting. We make the dimentionality high by including a hight number there. Too small units won't  capture the upward or downward of the stock prize."
   ]
  },
  {
   "cell_type": "markdown",
   "metadata": {},
   "source": [
    "#### Adding the first LSTM layer and some Dropout regularisation"
   ]
  },
  {
   "cell_type": "code",
   "execution_count": 8,
   "metadata": {},
   "outputs": [],
   "source": [
    "regressor.add(LSTM(units = 50, return_sequences = True, input_shape = (X_train.shape[1], 1)))\n",
    "regressor.add(Dropout(0.2))"
   ]
  },
  {
   "cell_type": "markdown",
   "metadata": {},
   "source": [
    "#### Adding a second LSTM layer and some Dropout regularisation"
   ]
  },
  {
   "cell_type": "code",
   "execution_count": 9,
   "metadata": {},
   "outputs": [],
   "source": [
    "regressor.add(LSTM(units = 50, return_sequences = True))\n",
    "regressor.add(Dropout(0.2))"
   ]
  },
  {
   "cell_type": "markdown",
   "metadata": {},
   "source": [
    "#### Adding a third LSTM layer and some Dropout regularisation"
   ]
  },
  {
   "cell_type": "code",
   "execution_count": 10,
   "metadata": {},
   "outputs": [],
   "source": [
    "regressor.add(LSTM(units = 50, return_sequences = True))\n",
    "regressor.add(Dropout(0.2))"
   ]
  },
  {
   "cell_type": "markdown",
   "metadata": {},
   "source": [
    "#### Adding a fourth LSTM layer and some Dropout regularisation"
   ]
  },
  {
   "cell_type": "code",
   "execution_count": 11,
   "metadata": {},
   "outputs": [],
   "source": [
    "regressor.add(LSTM(units = 50, return_sequences = True))\n",
    "regressor.add(Dropout(0.2))"
   ]
  },
  {
   "cell_type": "markdown",
   "metadata": {},
   "source": [
    "#### Adding a fifth LSTM layer and some Dropout regularisation"
   ]
  },
  {
   "cell_type": "code",
   "execution_count": 12,
   "metadata": {},
   "outputs": [],
   "source": [
    "regressor.add(LSTM(units = 50))\n",
    "regressor.add(Dropout(0.2))"
   ]
  },
  {
   "cell_type": "markdown",
   "metadata": {},
   "source": [
    "#### Adding the output layer"
   ]
  },
  {
   "cell_type": "code",
   "execution_count": 13,
   "metadata": {},
   "outputs": [],
   "source": [
    "regressor.add(Dense(units = 1))"
   ]
  },
  {
   "cell_type": "markdown",
   "metadata": {},
   "source": [
    "#### Compiling the RNN"
   ]
  },
  {
   "cell_type": "code",
   "execution_count": 14,
   "metadata": {},
   "outputs": [],
   "source": [
    "regressor.compile(optimizer = 'adam', loss = 'mean_squared_error')"
   ]
  },
  {
   "cell_type": "markdown",
   "metadata": {},
   "source": [
    "#### Fitting the RNN to the Training set"
   ]
  },
  {
   "cell_type": "markdown",
   "metadata": {},
   "source": [
    "#### Adam stands for  A Method for Stochastic Optimization based on the article written by Diederik Kingma, Jimmy Ba in 2014. Computing the loss function in this LSTM method heavily depends on the paper.\n",
    "\n"
   ]
  },
  {
   "cell_type": "markdown",
   "metadata": {},
   "source": [
    "#### epoch is how many times you want the naural network to be trained and back propagated and we want the loss to converge on the last 20 steps. Tested the epochs for 50 and the loss for the last 20 was not stable. Then I tried echops to be 100 and the loss while less than 0.0001 was pretty stable."
   ]
  },
  {
   "cell_type": "code",
   "execution_count": 15,
   "metadata": {},
   "outputs": [
    {
     "name": "stdout",
     "output_type": "stream",
     "text": [
      "Epoch 1/100\n",
      "2373/2373 [==============================] - 20s 8ms/step - loss: 0.0130\n",
      "Epoch 2/100\n",
      "2373/2373 [==============================] - 16s 7ms/step - loss: 0.0019\n",
      "Epoch 3/100\n",
      "2373/2373 [==============================] - 16s 7ms/step - loss: 0.0018\n",
      "Epoch 4/100\n",
      "2373/2373 [==============================] - 16s 7ms/step - loss: 0.0017\n",
      "Epoch 5/100\n",
      "2373/2373 [==============================] - 16s 7ms/step - loss: 0.0015\n",
      "Epoch 6/100\n",
      "2373/2373 [==============================] - 16s 7ms/step - loss: 0.0021\n",
      "Epoch 7/100\n",
      "2373/2373 [==============================] - 16s 7ms/step - loss: 0.0015\n",
      "Epoch 8/100\n",
      "2373/2373 [==============================] - 16s 7ms/step - loss: 0.0019\n",
      "Epoch 9/100\n",
      "2373/2373 [==============================] - 16s 7ms/step - loss: 0.0013\n",
      "Epoch 10/100\n",
      "2373/2373 [==============================] - 16s 7ms/step - loss: 0.0013\n",
      "Epoch 11/100\n",
      "2373/2373 [==============================] - 16s 7ms/step - loss: 0.0012\n",
      "Epoch 12/100\n",
      "2373/2373 [==============================] - 16s 7ms/step - loss: 0.0013\n",
      "Epoch 13/100\n",
      "2373/2373 [==============================] - 16s 7ms/step - loss: 0.0012\n",
      "Epoch 14/100\n",
      "2373/2373 [==============================] - 16s 7ms/step - loss: 0.0011\n",
      "Epoch 15/100\n",
      "2373/2373 [==============================] - 16s 7ms/step - loss: 0.0012\n",
      "Epoch 16/100\n",
      "2373/2373 [==============================] - 16s 7ms/step - loss: 0.0011\n",
      "Epoch 17/100\n",
      "2373/2373 [==============================] - 16s 7ms/step - loss: 0.0011\n",
      "Epoch 18/100\n",
      "2373/2373 [==============================] - 16s 7ms/step - loss: 0.0011\n",
      "Epoch 19/100\n",
      "2373/2373 [==============================] - 16s 7ms/step - loss: 9.5849e-04\n",
      "Epoch 20/100\n",
      "2373/2373 [==============================] - 16s 7ms/step - loss: 0.0010\n",
      "Epoch 21/100\n",
      "2373/2373 [==============================] - 16s 7ms/step - loss: 9.9941e-04\n",
      "Epoch 22/100\n",
      "2373/2373 [==============================] - 16s 7ms/step - loss: 0.0011\n",
      "Epoch 23/100\n",
      "2373/2373 [==============================] - 16s 7ms/step - loss: 0.0012\n",
      "Epoch 24/100\n",
      "2373/2373 [==============================] - 16s 7ms/step - loss: 9.6380e-04\n",
      "Epoch 25/100\n",
      "2373/2373 [==============================] - 16s 7ms/step - loss: 9.4862e-04\n",
      "Epoch 26/100\n",
      "2373/2373 [==============================] - 17s 7ms/step - loss: 0.0013\n",
      "Epoch 27/100\n",
      "2373/2373 [==============================] - 16s 7ms/step - loss: 9.4512e-04\n",
      "Epoch 28/100\n",
      "2373/2373 [==============================] - 16s 7ms/step - loss: 9.0460e-04\n",
      "Epoch 29/100\n",
      "2373/2373 [==============================] - 17s 7ms/step - loss: 7.9536e-04\n",
      "Epoch 30/100\n",
      "2373/2373 [==============================] - 17s 7ms/step - loss: 9.3012e-04\n",
      "Epoch 31/100\n",
      "2373/2373 [==============================] - 16s 7ms/step - loss: 8.0789e-04\n",
      "Epoch 32/100\n",
      "2373/2373 [==============================] - 16s 7ms/step - loss: 7.8054e-04\n",
      "Epoch 33/100\n",
      "2373/2373 [==============================] - 16s 7ms/step - loss: 7.2182e-04\n",
      "Epoch 34/100\n",
      "2373/2373 [==============================] - 16s 7ms/step - loss: 8.8488e-04\n",
      "Epoch 35/100\n",
      "2373/2373 [==============================] - 16s 7ms/step - loss: 7.3455e-04\n",
      "Epoch 36/100\n",
      "2373/2373 [==============================] - 16s 7ms/step - loss: 8.4562e-04\n",
      "Epoch 37/100\n",
      "2373/2373 [==============================] - 16s 7ms/step - loss: 7.9122e-04\n",
      "Epoch 38/100\n",
      "2373/2373 [==============================] - 16s 7ms/step - loss: 7.6131e-04\n",
      "Epoch 39/100\n",
      "2373/2373 [==============================] - 16s 7ms/step - loss: 8.3310e-04\n",
      "Epoch 40/100\n",
      "2373/2373 [==============================] - 16s 7ms/step - loss: 7.2999e-04\n",
      "Epoch 41/100\n",
      "2373/2373 [==============================] - 16s 7ms/step - loss: 7.3594e-04\n",
      "Epoch 42/100\n",
      "2373/2373 [==============================] - 16s 7ms/step - loss: 7.4056e-04\n",
      "Epoch 43/100\n",
      "2373/2373 [==============================] - 18s 8ms/step - loss: 8.1445e-04\n",
      "Epoch 44/100\n",
      "2373/2373 [==============================] - 20s 8ms/step - loss: 7.4491e-04\n",
      "Epoch 45/100\n",
      "2373/2373 [==============================] - 17s 7ms/step - loss: 7.9016e-04\n",
      "Epoch 46/100\n",
      "2373/2373 [==============================] - 17s 7ms/step - loss: 7.3630e-04\n",
      "Epoch 47/100\n",
      "2373/2373 [==============================] - 17s 7ms/step - loss: 6.7523e-04\n",
      "Epoch 48/100\n",
      "2373/2373 [==============================] - 20s 9ms/step - loss: 6.5035e-04\n",
      "Epoch 49/100\n",
      "2373/2373 [==============================] - 19s 8ms/step - loss: 5.9782e-04\n",
      "Epoch 50/100\n",
      "2373/2373 [==============================] - 16s 7ms/step - loss: 6.4224e-04\n",
      "Epoch 51/100\n",
      "2373/2373 [==============================] - 16s 7ms/step - loss: 8.7277e-04\n",
      "Epoch 52/100\n",
      "2373/2373 [==============================] - 16s 7ms/step - loss: 6.4540e-04\n",
      "Epoch 53/100\n",
      "2373/2373 [==============================] - 17s 7ms/step - loss: 7.3387e-04\n",
      "Epoch 54/100\n",
      "2373/2373 [==============================] - 18s 8ms/step - loss: 6.3532e-04\n",
      "Epoch 55/100\n",
      "2373/2373 [==============================] - 18s 8ms/step - loss: 7.3179e-04\n",
      "Epoch 56/100\n",
      "2373/2373 [==============================] - 18s 8ms/step - loss: 5.4791e-04\n",
      "Epoch 57/100\n",
      "2373/2373 [==============================] - 25s 11ms/step - loss: 7.1404e-04\n",
      "Epoch 58/100\n",
      "2373/2373 [==============================] - 20s 9ms/step - loss: 6.5801e-04\n",
      "Epoch 59/100\n",
      "2373/2373 [==============================] - 16s 7ms/step - loss: 7.2047e-04\n",
      "Epoch 60/100\n",
      "2373/2373 [==============================] - 16s 7ms/step - loss: 5.7487e-04\n",
      "Epoch 61/100\n",
      "2373/2373 [==============================] - 16s 7ms/step - loss: 6.6863e-04\n",
      "Epoch 62/100\n",
      "2373/2373 [==============================] - 17s 7ms/step - loss: 6.7657e-04\n",
      "Epoch 63/100\n",
      "2373/2373 [==============================] - 17s 7ms/step - loss: 7.2973e-04\n",
      "Epoch 64/100\n",
      "2373/2373 [==============================] - 17s 7ms/step - loss: 7.0096e-04\n",
      "Epoch 65/100\n",
      "2373/2373 [==============================] - 16s 7ms/step - loss: 6.6574e-04\n",
      "Epoch 66/100\n",
      "2373/2373 [==============================] - 18s 8ms/step - loss: 5.6386e-04\n",
      "Epoch 67/100\n",
      "2373/2373 [==============================] - 17s 7ms/step - loss: 5.7863e-04\n",
      "Epoch 68/100\n",
      "2373/2373 [==============================] - 16s 7ms/step - loss: 5.6879e-04\n",
      "Epoch 69/100\n",
      "2373/2373 [==============================] - 17s 7ms/step - loss: 5.8458e-04\n",
      "Epoch 70/100\n",
      "2373/2373 [==============================] - 17s 7ms/step - loss: 6.3979e-04\n",
      "Epoch 71/100\n",
      "2373/2373 [==============================] - 17s 7ms/step - loss: 6.9795e-04\n",
      "Epoch 72/100\n",
      "2373/2373 [==============================] - 19s 8ms/step - loss: 6.7579e-04\n",
      "Epoch 73/100\n",
      "2373/2373 [==============================] - 27s 11ms/step - loss: 6.0637e-04\n",
      "Epoch 74/100\n",
      "2373/2373 [==============================] - 18s 8ms/step - loss: 6.1183e-04\n",
      "Epoch 75/100\n",
      "2373/2373 [==============================] - 17s 7ms/step - loss: 6.2986e-04\n",
      "Epoch 76/100\n",
      "2373/2373 [==============================] - 19s 8ms/step - loss: 7.6527e-04\n",
      "Epoch 77/100\n",
      "2373/2373 [==============================] - 18s 8ms/step - loss: 5.8036e-04\n",
      "Epoch 78/100\n",
      "2373/2373 [==============================] - 20s 8ms/step - loss: 5.5604e-04\n",
      "Epoch 79/100\n",
      "2373/2373 [==============================] - 17s 7ms/step - loss: 5.7363e-04\n",
      "Epoch 80/100\n",
      "2373/2373 [==============================] - 19s 8ms/step - loss: 5.0407e-04\n",
      "Epoch 81/100\n",
      "2373/2373 [==============================] - 18s 8ms/step - loss: 6.0126e-04\n",
      "Epoch 82/100\n",
      "2373/2373 [==============================] - 17s 7ms/step - loss: 6.8511e-04\n",
      "Epoch 83/100\n",
      "2373/2373 [==============================] - 17s 7ms/step - loss: 6.1031e-04\n",
      "Epoch 84/100\n",
      "2373/2373 [==============================] - 16s 7ms/step - loss: 5.6925e-04\n",
      "Epoch 85/100\n",
      "2373/2373 [==============================] - 16s 7ms/step - loss: 6.3844e-04\n",
      "Epoch 86/100\n",
      "2373/2373 [==============================] - 17s 7ms/step - loss: 5.2722e-04\n",
      "Epoch 87/100\n",
      "2373/2373 [==============================] - 17s 7ms/step - loss: 5.2804e-04\n",
      "Epoch 88/100\n",
      "2373/2373 [==============================] - 17s 7ms/step - loss: 5.3322e-04\n",
      "Epoch 89/100\n",
      "2373/2373 [==============================] - 16s 7ms/step - loss: 5.5807e-04\n",
      "Epoch 90/100\n",
      "2373/2373 [==============================] - 17s 7ms/step - loss: 5.7913e-04\n",
      "Epoch 91/100\n",
      "2373/2373 [==============================] - 16s 7ms/step - loss: 4.9756e-04\n",
      "Epoch 92/100\n",
      "2373/2373 [==============================] - 16s 7ms/step - loss: 5.0450e-04\n",
      "Epoch 93/100\n"
     ]
    },
    {
     "name": "stdout",
     "output_type": "stream",
     "text": [
      "2373/2373 [==============================] - 18s 8ms/step - loss: 6.0026e-04\n",
      "Epoch 94/100\n",
      "2373/2373 [==============================] - 16s 7ms/step - loss: 5.7282e-04\n",
      "Epoch 95/100\n",
      "2373/2373 [==============================] - 16s 7ms/step - loss: 5.4968e-04\n",
      "Epoch 96/100\n",
      "2373/2373 [==============================] - 17s 7ms/step - loss: 6.2362e-04\n",
      "Epoch 97/100\n",
      "2373/2373 [==============================] - 16s 7ms/step - loss: 5.5202e-04\n",
      "Epoch 98/100\n",
      "2373/2373 [==============================] - 17s 7ms/step - loss: 5.3183e-04\n",
      "Epoch 99/100\n",
      "2373/2373 [==============================] - 16s 7ms/step - loss: 6.0359e-04\n",
      "Epoch 100/100\n",
      "2373/2373 [==============================] - 16s 7ms/step - loss: 5.1243e-04\n"
     ]
    },
    {
     "data": {
      "text/plain": [
       "<keras.callbacks.History at 0x125eedd90>"
      ]
     },
     "execution_count": 15,
     "metadata": {},
     "output_type": "execute_result"
    }
   ],
   "source": [
    "regressor.fit(X_train, y_train, epochs = 100, batch_size = 32)"
   ]
  },
  {
   "cell_type": "markdown",
   "metadata": {},
   "source": [
    "#### Getting the real stock price of September 2018."
   ]
  },
  {
   "cell_type": "code",
   "execution_count": 17,
   "metadata": {},
   "outputs": [],
   "source": [
    "dataset_test = pd.read_csv('Data/Microsoft_Stock_Price_Test.csv')\n",
    "real_stock_price = dataset_test.iloc[:, 1:2].values"
   ]
  },
  {
   "cell_type": "markdown",
   "metadata": {},
   "source": [
    "#### We concatinate the training and the test set."
   ]
  },
  {
   "cell_type": "code",
   "execution_count": 18,
   "metadata": {},
   "outputs": [],
   "source": [
    "dataset_total = pd.concat((dataset_train['Open'], dataset_test['Open']), axis = 0)\n",
    "inputs = dataset_total[len(dataset_total) - len(dataset_test) - 60:].values\n",
    "inputs = inputs.reshape(-1,1)\n",
    "inputs = sc.transform(inputs)\n",
    "X_test = []\n",
    "for i in range(60, 60 + len(dataset_test['Open'])):\n",
    "    X_test.append(inputs[i-60:i, 0])\n",
    "X_test = np.array(X_test)\n",
    "X_test = np.reshape(X_test, (X_test.shape[0], X_test.shape[1], 1))\n",
    "predicted_stock_price = regressor.predict(X_test)\n",
    "predicted_stock_price = sc.inverse_transform(predicted_stock_price)"
   ]
  },
  {
   "cell_type": "markdown",
   "metadata": {},
   "source": [
    "#### Visualising the results"
   ]
  },
  {
   "cell_type": "code",
   "execution_count": 19,
   "metadata": {},
   "outputs": [
    {
     "data": {
      "image/png": "[encoded data removed]",
      "text/plain": [
       "<Figure size 432x288 with 1 Axes>"
      ]
     },
     "metadata": {
      "needs_background": "light"
     },
     "output_type": "display_data"
    }
   ],
   "source": [
    "plt.plot(real_stock_price, color = 'blue', label = 'Real Microsoft Stock Price')\n",
    "plt.plot(predicted_stock_price, color = 'red', label = 'Predicted Microsoft Stock Price')\n",
    "plt.title('Microsoft Stock Price Prediction')\n",
    "plt.xlabel('Time')\n",
    "plt.ylabel('Microsoft Stock Price')\n",
    "plt.legend()\n",
    "plt.show()"
   ]
  },
  {
   "cell_type": "code",
   "execution_count": null,
   "metadata": {},
   "outputs": [],
   "source": []
  }
 ],
 "metadata": {
  "kernelspec": {
   "display_name": "Python 2",
   "language": "python",
   "name": "python2"
  },
  "language_info": {
   "codemirror_mode": {
    "name": "ipython",
    "version": 2
   },
   "file_extension": ".py",
   "mimetype": "text/x-python",
   "name": "python",
   "nbconvert_exporter": "python",
   "pygments_lexer": "ipython2",
   "version": "2.7.15"
  }
 },
 "nbformat": 4,
 "nbformat_minor": 2
}
